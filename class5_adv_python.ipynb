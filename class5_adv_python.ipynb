{
 "cells": [
  {
   "cell_type": "code",
   "execution_count": 13,
   "metadata": {},
   "outputs": [
    {
     "name": "stdout",
     "output_type": "stream",
     "text": [
      "[[1 2 3]\n",
      " [4 5 6]]\n",
      "<class 'numpy.ndarray'>\n",
      "2\n",
      "(2, 3)\n",
      "6\n",
      "int32\n",
      "[[1. 2. 3.]\n",
      " [4. 5. 6.]]\n",
      "[1 2 3]\n",
      "[[0. 0. 0. 0.]\n",
      " [0. 0. 0. 0.]\n",
      " [0. 0. 0. 0.]]\n",
      "[[6. 6. 6.]\n",
      " [6. 6. 6.]\n",
      " [6. 6. 6.]]\n",
      "[[0.98567298 0.19505033]\n",
      " [0.123816   0.50224623]]\n",
      "[ 0  5 10 15 20 25]\n",
      "[0.         0.55555556 1.11111111 1.66666667 2.22222222 2.77777778\n",
      " 3.33333333 3.88888889 4.44444444 5.        ]\n",
      "[[[1 2 3]\n",
      "  [4 4 5]]\n",
      "\n",
      " [[6 7 7]\n",
      "  [8 9 0]]]\n",
      "[[-1.   2.   0.   4. ]\n",
      " [ 4.  -0.5  6.   2. ]\n",
      " [ 2.9  4.   5.   6. ]\n",
      " [ 1.2  5.   0.   3.5]]\n",
      "[[-1.  0.]\n",
      " [ 4.  6.]]\n",
      "[2.  4.  4.  6.  2.  2.9 4.  5.  6.  1.2 5.  3.5]\n"
     ]
    }
   ],
   "source": [
    "#Numpy\n",
    "#concept about homogeneous multidimensional array\n",
    "import numpy as np\n",
    "arr=np.array([[1,2,3],[4,5,6]])#array created using numpy\n",
    "print(arr)\n",
    "#type\n",
    "print(type(arr))\n",
    "#dimension\n",
    "print(arr.ndim)\n",
    "#shape\n",
    "print(arr.shape)\n",
    "#no. of elements\n",
    "print(arr.size)\n",
    "#type of element\n",
    "print(arr.dtype)\n",
    "#create a new array of type float\n",
    "a=np.array([[1,2,3],[4,5,6]],dtype='float')\n",
    "print(a)\n",
    "#create array from tuple\n",
    "b=np.array((1,2,3))\n",
    "print (b)\n",
    "#3x4 array with all zeros\n",
    "c=np.zeros((3,4))\n",
    "print(c)\n",
    "#array of complex number\n",
    "d=np.full((3,3),6,dtype=\"float\")\n",
    "print(d)\n",
    "#array of random values\n",
    "r=np.random.random((2,2))\n",
    "print(r)\n",
    "#sequence of values from 0 t0 30 with interval of 5\n",
    "f=np.arange(0,30,5)\n",
    "print(f)\n",
    "#sequence of 10 values in range 0 to 5\n",
    "p=np.linspace(0,5,10)\n",
    "print(p)\n",
    "#reshape array\n",
    "arr=np.array([[1,2,3,4],[4,5,6,7],[7,8,9,0]])\n",
    "n=arr.reshape(2,2,3)\n",
    "print(n)\n",
    "#array indexing\n",
    "arr=np.array([[-1,2,0,4],[4,-0.5,6,2],[2.9,4,5,6],[1.2,5,0,3.5]])\n",
    "print(arr)\n",
    "#slicing\n",
    "t=arr[:2,::2]\n",
    "print(t)\n",
    "#boolean array  indexing\n",
    "cond=arr>0\n",
    "t=arr[cond]\n",
    "print(t)"
   ]
  },
  {
   "cell_type": "code",
   "execution_count": 19,
   "metadata": {},
   "outputs": [
    {
     "name": "stdout",
     "output_type": "stream",
     "text": [
      "[[ 2  3  4]\n",
      " [ 5  6  7]\n",
      " [ 8  9 10]]\n"
     ]
    }
   ],
   "source": [
    "#write a numpy to create a 3x3 matrix with values ranging from 2 to 10 \n",
    "import numpy as np\n",
    "x=np.arange(2,11).reshape(3,3)\n",
    "print(x)"
   ]
  },
  {
   "cell_type": "code",
   "execution_count": 21,
   "metadata": {},
   "outputs": [
    {
     "name": "stdout",
     "output_type": "stream",
     "text": [
      "[1 2 3 4 3 2 1 4]\n",
      "[1 2 3 4 3 2 1 4]\n"
     ]
    }
   ],
   "source": [
    "#flatten\n",
    "import numpy as np\n",
    "a=np.array([(1,2,3,4),(3,2,1,4)])\n",
    "print(a.flatten())\n",
    "#ravel\n",
    "print(a.ravel())\n",
    "# both gives same output\n",
    "# both are convertion of 2D array to 1D array:\n",
    "# flatten---returns copy of original array slower and method of ndarray element\n",
    "# ravel---returns only reference of original array more faster, library level function"
   ]
  },
  {
   "cell_type": "code",
   "execution_count": 24,
   "metadata": {},
   "outputs": [
    {
     "name": "stdout",
     "output_type": "stream",
     "text": [
      "[[2 3 4 5]\n",
      " [6 7 8 9]]\n",
      "[[-2 -1  0  1]\n",
      " [ 2  3  4  5]]\n",
      "[[10 20 30 40]\n",
      " [50 60 70 80]]\n",
      "[[ 1  4  9 16]\n",
      " [25 36 49 64]]\n",
      "[[1 2 3 4]\n",
      " [5 6 7 8]]\n",
      "[[1 5]\n",
      " [2 6]\n",
      " [3 7]\n",
      " [4 8]]\n"
     ]
    }
   ],
   "source": [
    "import numpy as np\n",
    "#mathematical operators\n",
    "#......unary operators.....\n",
    "a=np.array([[1,2,3,4],[5,6,7,8]])\n",
    "print(a+1)\n",
    "print(a-3)\n",
    "print(a*10)\n",
    "print(a**2)\n",
    "print(a)\n",
    "#transpose\n",
    "print(a.T)"
   ]
  },
  {
   "cell_type": "code",
   "execution_count": 29,
   "metadata": {},
   "outputs": [
    {
     "name": "stdout",
     "output_type": "stream",
     "text": [
      "9\n",
      "[3 6 9]\n",
      "[8 9 7]\n",
      "1\n",
      "[1 4 7]\n",
      "[1 2 3]\n",
      "45\n"
     ]
    }
   ],
   "source": [
    "import numpy as np\n",
    "#built in operators\n",
    "arr=np.array([[1,2,3],[4,5,6],[8,9,7]])\n",
    "#maximum element\n",
    "print(arr.max())\n",
    "#rowwise maximum\n",
    "print(arr.max(axis=1))\n",
    "#column wise\n",
    "print(arr.max(axis=0))\n",
    "#minimum element\n",
    "print(arr.min())\n",
    "#rowwise minimum\n",
    "print(arr.min(axis=1))\n",
    "#column wise\n",
    "print(arr.min(axis=0))\n",
    "#sum of elements\n",
    "print(arr.sum())"
   ]
  },
  {
   "cell_type": "code",
   "execution_count": 30,
   "metadata": {},
   "outputs": [
    {
     "name": "stdout",
     "output_type": "stream",
     "text": [
      "[[ 4  6]\n",
      " [ 9 11]]\n",
      "[[-2 -2]\n",
      " [-1 -1]]\n",
      "[[ 3  8]\n",
      " [20 30]]\n",
      "[[13 16]\n",
      " [37 46]]\n"
     ]
    }
   ],
   "source": [
    "import numpy as np\n",
    "#binary operators\n",
    "a=np.array([[1,2],[4,5]])\n",
    "b=np.array([[3,4],[5,6]])\n",
    "#add\n",
    "print(a+b)\n",
    "#subtract\n",
    "print(a-b)\n",
    "#multiply of array\n",
    "print(a*b)\n",
    "#matrix multiplication\n",
    "print(a.dot(b))"
   ]
  },
  {
   "cell_type": "code",
   "execution_count": 34,
   "metadata": {},
   "outputs": [
    {
     "name": "stdout",
     "output_type": "stream",
     "text": [
      "[0.         1.57079633 3.14159265]\n",
      "[0.0000000e+00 1.0000000e+00 1.2246468e-16]\n",
      "[ 1.          2.71828183  7.3890561  20.08553692]\n",
      "[0.         1.         1.41421356 1.73205081]\n",
      "[[ 1  4  5]\n",
      " [ 1  2  8]\n",
      " [-1  3  6]]\n",
      "[[ 1  4  5]\n",
      " [ 1  2  8]\n",
      " [-1  3  6]]\n",
      "the array is\n",
      "[(b'a', 2008, 9.5) (b'b', 2010, 8.9) (b'c', 2009, 5.6) (b'd', 2010, 9.6)]\n",
      "after sort by names [(b'a', 2008, 9.5) (b'b', 2010, 8.9) (b'c', 2009, 5.6) (b'd', 2010, 9.6)]\n",
      "after sort by year and cgpa [(b'a', 2008, 9.5) (b'c', 2009, 5.6) (b'b', 2010, 8.9) (b'd', 2010, 9.6)]\n"
     ]
    }
   ],
   "source": [
    "import numpy as np\n",
    "#universal function\n",
    "#array of sin value\n",
    "n=np.array([0,np.pi/2,np.pi])\n",
    "print(n)\n",
    "print(np.sin(n))\n",
    "#exponential values\n",
    "a=np.array([0,1,2,3])\n",
    "print(np.exp(a))\n",
    "#square root\n",
    "print(np.sqrt(a))\n",
    "#sorting of array\n",
    "a=np.array([[1,4,5],[2,8,1],[6,-1,3]])\n",
    "print(np.sort(a,axis=1))\n",
    "#sorting as per specification\n",
    "print(np.sort(a,axis=1,kind='mergesort'))\n",
    "#sorting of structured array\n",
    "dtypes=[('name','S10'),('year',int),('cgpa',float)]\n",
    "values=[('a',2008,9.5),('b',2010,8.9),('c',2009,5.6),('d',2010,9.6)]\n",
    "\n",
    "print('the array is')\n",
    "arr=np.array(values,dtype=dtypes)\n",
    "print(arr)\n",
    "print(\"after sort by names\",np.sort(arr,order='name'))\n",
    "print(\"after sort by year and cgpa\",np.sort(arr,order=['year','cgpa']))"
   ]
  },
  {
   "cell_type": "code",
   "execution_count": 35,
   "metadata": {},
   "outputs": [],
   "source": [
    "# create a numpy program of array ranging from 12 to 38\n",
    "# create an array then reverse it\n",
    "# convert an integer numpy array into float type\n",
    "# write a numpy to append values at the end of array and show"
   ]
  },
  {
   "cell_type": "code",
   "execution_count": 36,
   "metadata": {},
   "outputs": [
    {
     "name": "stdout",
     "output_type": "stream",
     "text": [
      "[12 13 14 15 16 17 18 19 20 21 22 23 24 25 26 27 28 29 30 31 32 33 34 35\n",
      " 36 37 38]\n"
     ]
    }
   ],
   "source": [
    "import numpy as np\n",
    "f=np.arange(12,39)\n",
    "print(f)"
   ]
  },
  {
   "cell_type": "code",
   "execution_count": 38,
   "metadata": {},
   "outputs": [
    {
     "name": "stdout",
     "output_type": "stream",
     "text": [
      "[38 37 36 35 34 33 32 31 30 29 28 27 26 25 24 23 22 21 20 19 18 17 16 15\n",
      " 14 13 12]\n"
     ]
    }
   ],
   "source": [
    "import numpy as np\n",
    "f=np.arange(12,39)\n",
    "print(f[::-1])"
   ]
  },
  {
   "cell_type": "code",
   "execution_count": 39,
   "metadata": {},
   "outputs": [
    {
     "name": "stdout",
     "output_type": "stream",
     "text": [
      "[[1. 2. 3.]\n",
      " [4. 5. 6.]]\n"
     ]
    }
   ],
   "source": [
    "import numpy as np\n",
    "a=np.array([[1,2,3],[4,5,6]])\n",
    "b=np.array(a,dtype='float')\n",
    "a=b\n",
    "print(a)"
   ]
  },
  {
   "cell_type": "code",
   "execution_count": 46,
   "metadata": {},
   "outputs": [
    {
     "name": "stdout",
     "output_type": "stream",
     "text": [
      "[1 2 3 7 8 9 4 5 6]\n"
     ]
    }
   ],
   "source": [
    "import numpy as np\n",
    "p=np.array([[1,2,3],[7,8,9]])\n",
    "print(np.append(p,[4,5,6]))"
   ]
  },
  {
   "cell_type": "code",
   "execution_count": 48,
   "metadata": {},
   "outputs": [
    {
     "name": "stdout",
     "output_type": "stream",
     "text": [
      "['xyzhello']\n",
      "['hellowelcome' 'hibye']\n",
      "hellohellohello\n",
      "*******hello********\n",
      "['hello' 'world']\n",
      "['HELLO' 'WORLD']\n"
     ]
    }
   ],
   "source": [
    "import numpy as np\n",
    "#character type\n",
    "print(np.char.add(['xyz'],['hello']))\n",
    "print(np.char.add(['hello','hi'],['welcome','bye']))\n",
    "print(np.char.multiply('hello',3))\n",
    "print(np.char.center('hello',20,fillchar='*'))\n",
    "print(np.char.lower(['hello','world']))\n",
    "print(np.char.upper(['hello','world']))"
   ]
  },
  {
   "cell_type": "code",
   "execution_count": 58,
   "metadata": {},
   "outputs": [
    {
     "name": "stdout",
     "output_type": "stream",
     "text": [
      "[[0 0]\n",
      " [0 1]\n",
      " [3 0]]\n",
      "  (1, 1)\t1\n",
      "  (2, 0)\t3\n"
     ]
    }
   ],
   "source": [
    "#sparse matrix\n",
    "import numpy as np\n",
    "from numpy import array\n",
    "from scipy.sparse import csr_matrix\n",
    "matrix=np.array([[0,0],[0,1],[3,0]])\n",
    "print(matrix)\n",
    "sp=csr_matrix(matrix)\n",
    "print(sp)"
   ]
  },
  {
   "cell_type": "code",
   "execution_count": 62,
   "metadata": {},
   "outputs": [
    {
     "name": "stdout",
     "output_type": "stream",
     "text": [
      "2.111111111111111\n",
      "2.0\n",
      "1.5234788000891208\n"
     ]
    }
   ],
   "source": [
    "import numpy as np\n",
    "#average,mean,standard deviation\n",
    "matrix=np.array([[1,1,0],[2,5,1],[3,2,4]])\n",
    "#mean\n",
    "print(np.mean(matrix))\n",
    "#median\n",
    "print(np.median(matrix))\n",
    "#Standard dev\n",
    "print(np.std(matrix))"
   ]
  },
  {
   "cell_type": "code",
   "execution_count": null,
   "metadata": {},
   "outputs": [],
   "source": []
  }
 ],
 "metadata": {
  "kernelspec": {
   "display_name": "Python 3",
   "language": "python",
   "name": "python3"
  },
  "language_info": {
   "codemirror_mode": {
    "name": "ipython",
    "version": 3
   },
   "file_extension": ".py",
   "mimetype": "text/x-python",
   "name": "python",
   "nbconvert_exporter": "python",
   "pygments_lexer": "ipython3",
   "version": "3.7.3"
  }
 },
 "nbformat": 4,
 "nbformat_minor": 2
}
