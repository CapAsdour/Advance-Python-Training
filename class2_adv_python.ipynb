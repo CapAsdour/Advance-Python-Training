{
 "cells": [
  {
   "cell_type": "code",
   "execution_count": 1,
   "metadata": {},
   "outputs": [],
   "source": [
    "# CLASS AND OBJECT\n",
    "#class is an entity which holds variable , functions, methods\n",
    "# object is the representative of that class to access its properties\n",
    "# class classname:\n",
    "#         variable\n",
    "#       method\n",
    "# objectname=classname()\n",
    "# class method using object"
   ]
  },
  {
   "cell_type": "code",
   "execution_count": 2,
   "metadata": {},
   "outputs": [
    {
     "name": "stdout",
     "output_type": "stream",
     "text": [
      "5\n"
     ]
    }
   ],
   "source": [
    "class IT:\n",
    "    x=5\n",
    "p1=IT()\n",
    "print(p1.x)"
   ]
  },
  {
   "cell_type": "code",
   "execution_count": 4,
   "metadata": {},
   "outputs": [
    {
     "name": "stdout",
     "output_type": "stream",
     "text": [
      "IT\n",
      "36\n"
     ]
    }
   ],
   "source": [
    "class person:\n",
    "    def __init__(self,name,age):\n",
    "        self.name=name\n",
    "        self.age=age\n",
    "p1=person(\"IT\",36)\n",
    "print(p1.name)\n",
    "print(p1.age)"
   ]
  },
  {
   "cell_type": "code",
   "execution_count": 6,
   "metadata": {},
   "outputs": [
    {
     "name": "stdout",
     "output_type": "stream",
     "text": [
      "name is IT\n",
      "age is  36\n"
     ]
    }
   ],
   "source": [
    "class person:\n",
    "    def __init__(self,name,age):\n",
    "        self.name=name\n",
    "        self.age=age\n",
    "    def fun(self):\n",
    "        print(\"name is \" +self.name)\n",
    "        print(\"age is \",self.age)\n",
    "p1=person(\"IT\",36)\n",
    "p1.fun()\n"
   ]
  },
  {
   "cell_type": "code",
   "execution_count": 7,
   "metadata": {},
   "outputs": [
    {
     "name": "stdout",
     "output_type": "stream",
     "text": [
      "name is IT\n",
      "age is  36\n"
     ]
    }
   ],
   "source": [
    "# inheritance\n",
    "# creating a new class from an existing class\n",
    "class person:\n",
    "    def __init__(self,name,age):\n",
    "        self.name=name\n",
    "        self.age=age\n",
    "    def fun(self):\n",
    "        print(\"name is \" +self.name)\n",
    "        print(\"age is \",self.age)\n",
    "class child(person):\n",
    "    pass\n",
    "x=child(\"IT\",36)\n",
    "x.fun()\n",
    "# parent class can create a child class but cannot access data from child class\n",
    "# but child class can access all data of parent class"
   ]
  },
  {
   "cell_type": "code",
   "execution_count": 12,
   "metadata": {},
   "outputs": [
    {
     "name": "stdout",
     "output_type": "stream",
     "text": [
      "name is IT\n",
      "age is  36\n",
      "Year = 2009\n"
     ]
    }
   ],
   "source": [
    "class person:\n",
    "    def __init__(self,name,age):\n",
    "        self.name=name\n",
    "        self.age=age\n",
    "    def fun(self):\n",
    "        print(\"name is \" +self.name)\n",
    "        print(\"age is \",self.age)\n",
    "class child(person):\n",
    "    def __init__(self,name,age,year):\n",
    "        super().__init__(name,age)\n",
    "        self.year=year\n",
    "    def get(self):\n",
    "        print(\"Year =\", self.year)\n",
    "x=child(\"IT\",36,2009)\n",
    "x.fun()\n",
    "x.get()"
   ]
  },
  {
   "cell_type": "code",
   "execution_count": 14,
   "metadata": {},
   "outputs": [
    {
     "name": "stdout",
     "output_type": "stream",
     "text": [
      "parent 1\n",
      "parent 2\n",
      "child class\n",
      "IT Python\n"
     ]
    }
   ],
   "source": [
    "# multiple inheritance  --- more than one parent\n",
    "class parent1:\n",
    "    def __init__(self):\n",
    "        self.str1=\"IT\"\n",
    "        print(\"parent 1\")\n",
    "class parent2:\n",
    "    def __init__(self):\n",
    "        self.str2=\"Python\"\n",
    "        print(\"parent 2\")\n",
    "class child(parent1,parent2):\n",
    "    def __init__(self):\n",
    "        parent1.__init__(self)\n",
    "        parent2.__init__(self)\n",
    "        print(\"child class\")\n",
    "    def get(self):\n",
    "        print(self.str1,self.str2)\n",
    "ob=child()\n",
    "ob.get()"
   ]
  },
  {
   "cell_type": "code",
   "execution_count": 15,
   "metadata": {},
   "outputs": [],
   "source": [
    "# 1) write a program to implement pow(x,n) using class\n",
    "# 2) write a class named triangle constructed by a height and length and a method will compute the area of the triangle"
   ]
  },
  {
   "cell_type": "code",
   "execution_count": 23,
   "metadata": {},
   "outputs": [
    {
     "name": "stdout",
     "output_type": "stream",
     "text": [
      "enter a number5\n",
      "enter the power2\n",
      "25\n"
     ]
    }
   ],
   "source": [
    "# 1)\n",
    "m=int(input(\"enter a number\"))\n",
    "k=int(input(\"enter the power\"))\n",
    "class pow:\n",
    "     def __init__(self,x,n):\n",
    "        self.x=x\n",
    "        self.n=n\n",
    "        j=x**n\n",
    "        print(j)\n",
    "do=pow(m,k)\n"
   ]
  },
  {
   "cell_type": "code",
   "execution_count": 26,
   "metadata": {},
   "outputs": [
    {
     "name": "stdout",
     "output_type": "stream",
     "text": [
      "enter length =4\n",
      "enter height =4\n",
      "area =  8.0\n"
     ]
    }
   ],
   "source": [
    "# 2)\n",
    "class triangle:\n",
    "    def __init__(self,length,height):\n",
    "        self.length=length\n",
    "        self.height=height\n",
    "    def area(self):\n",
    "        print(\"area = \",0.5*self.height*self.length)\n",
    "p=triangle(int(input(\"enter length =\")),int(input(\"enter height =\")))        \n",
    "p.area()       "
   ]
  },
  {
   "cell_type": "code",
   "execution_count": 30,
   "metadata": {},
   "outputs": [
    {
     "name": "stdout",
     "output_type": "stream",
     "text": [
      "parent \n",
      "child \n",
      "grand child\n"
     ]
    }
   ],
   "source": [
    "# multilevel inheritance\n",
    "class IT :\n",
    "    def fun(self):\n",
    "        print(\"parent \")\n",
    "class Python(IT):\n",
    "    def show(self):\n",
    "        print(\"child \")\n",
    "class inherit(Python):\n",
    "    def get(self):\n",
    "        print(\"grand child\")\n",
    "p1=inherit()\n",
    "p1.fun()\n",
    "p1.show()\n",
    "p1.get()"
   ]
  },
  {
   "cell_type": "code",
   "execution_count": 34,
   "metadata": {},
   "outputs": [
    {
     "name": "stdout",
     "output_type": "stream",
     "text": [
      "writing\n"
     ]
    }
   ],
   "source": [
    "# method overriding\n",
    "class Parent:\n",
    "    def language(self):\n",
    "        print (\"speaking\")\n",
    "class child:\n",
    "    def language(self):\n",
    "        # and here ---super().language()\n",
    "        print (\"writing\")\n",
    "c=child()\n",
    "c.language()\n",
    "# to call language() of parent class we have to use key work super"
   ]
  },
  {
   "cell_type": "code",
   "execution_count": 36,
   "metadata": {},
   "outputs": [
    {
     "name": "stdout",
     "output_type": "stream",
     "text": [
      "no. of employees :  2\n"
     ]
    },
    {
     "ename": "AttributeError",
     "evalue": "'emp' object has no attribute '__count'",
     "output_type": "error",
     "traceback": [
      "\u001b[1;31m---------------------------------------------------------------------------\u001b[0m",
      "\u001b[1;31mAttributeError\u001b[0m                            Traceback (most recent call last)",
      "\u001b[1;32m<ipython-input-36-b2a975e61c42>\u001b[0m in \u001b[0;36m<module>\u001b[1;34m\u001b[0m\n\u001b[0;32m     10\u001b[0m \u001b[0me2\u001b[0m\u001b[1;33m=\u001b[0m\u001b[0memp\u001b[0m\u001b[1;33m(\u001b[0m\u001b[1;33m)\u001b[0m\u001b[1;33m\u001b[0m\u001b[1;33m\u001b[0m\u001b[0m\n\u001b[0;32m     11\u001b[0m \u001b[1;32mtry\u001b[0m\u001b[1;33m:\u001b[0m\u001b[1;33m\u001b[0m\u001b[1;33m\u001b[0m\u001b[0m\n\u001b[1;32m---> 12\u001b[1;33m     \u001b[0mprint\u001b[0m\u001b[1;33m(\u001b[0m\u001b[0me\u001b[0m\u001b[1;33m.\u001b[0m\u001b[0m__count\u001b[0m\u001b[1;33m)\u001b[0m\u001b[1;33m\u001b[0m\u001b[1;33m\u001b[0m\u001b[0m\n\u001b[0m\u001b[0;32m     13\u001b[0m \u001b[1;32mfinally\u001b[0m\u001b[1;33m:\u001b[0m\u001b[1;33m\u001b[0m\u001b[1;33m\u001b[0m\u001b[0m\n\u001b[0;32m     14\u001b[0m     \u001b[0me\u001b[0m\u001b[1;33m.\u001b[0m\u001b[0mshow\u001b[0m\u001b[1;33m(\u001b[0m\u001b[1;33m)\u001b[0m\u001b[1;33m\u001b[0m\u001b[1;33m\u001b[0m\u001b[0m\n",
      "\u001b[1;31mAttributeError\u001b[0m: 'emp' object has no attribute '__count'"
     ]
    }
   ],
   "source": [
    "# Data Abstraction\n",
    "class emp:\n",
    "    __count=0\n",
    "    def __init__(self):\n",
    "        emp.__count=emp.__count+1\n",
    "    def show(self):\n",
    "        print(\"no. of employees : \",emp.__count)\n",
    "e=emp()\n",
    "#as the count is hidden using \"__\" so it cannot be taken out but we can work within the class\n",
    "e2=emp()\n",
    "try:\n",
    "    print(e.__count)\n",
    "finally:\n",
    "    e.show()"
   ]
  },
  {
   "cell_type": "code",
   "execution_count": 40,
   "metadata": {},
   "outputs": [
    {
     "name": "stdout",
     "output_type": "stream",
     "text": [
      "enter a string : asit kumar\n",
      "AsIt kUmAr\n"
     ]
    }
   ],
   "source": [
    "# print a word with vowels in capital\n",
    "class vowel:\n",
    "    def __init__(self,string):\n",
    "        self.string=string\n",
    "    def vowel(self):\n",
    "        s1=\"\"\n",
    "        for x in self.string:\n",
    "            if(x=='a' or x=='e' or x=='i' or x=='o' or x=='u'):\n",
    "                s1=s1+x.upper()\n",
    "            else:\n",
    "                s1=s1+x\n",
    "        print(s1)\n",
    "p1=vowel(input(\"enter a string : \"))\n",
    "p1.vowel()      "
   ]
  },
  {
   "cell_type": "code",
   "execution_count": 41,
   "metadata": {},
   "outputs": [
    {
     "name": "stdout",
     "output_type": "stream",
     "text": [
      "asit kumar\n",
      "AsIt kUmAr\n"
     ]
    }
   ],
   "source": [
    "str=input()\n",
    "y=str\n",
    "vowels='aeiou'\n",
    "for vowel in vowels:\n",
    "    y=y.replace(vowel,vowel.upper())\n",
    "print(y)    "
   ]
  },
  {
   "cell_type": "code",
   "execution_count": 46,
   "metadata": {},
   "outputs": [
    {
     "name": "stdout",
     "output_type": "stream",
     "text": [
      "matchObj.group(): Cats are smarter than dogs\n",
      "matchObj.group(1): Cats \n",
      "matchObj.group(2):  smarter than dogs\n"
     ]
    }
   ],
   "source": [
    "# regular expression\n",
    "import re\n",
    "line = \"Cats are smarter than dogs\"\n",
    "matchObj=re.match(r'(.*)are(.*).*',line,re.M|re.I)\n",
    "if matchObj:\n",
    "    print(\"matchObj.group():\",matchObj.group())\n",
    "    print(\"matchObj.group(1):\",matchObj.group(1))\n",
    "    print(\"matchObj.group(2):\",matchObj.group(2))\n",
    "else:\n",
    "    print(\"no match\")"
   ]
  },
  {
   "cell_type": "code",
   "execution_count": null,
   "metadata": {},
   "outputs": [],
   "source": []
  }
 ],
 "metadata": {
  "kernelspec": {
   "display_name": "Python 3",
   "language": "python",
   "name": "python3"
  },
  "language_info": {
   "codemirror_mode": {
    "name": "ipython",
    "version": 3
   },
   "file_extension": ".py",
   "mimetype": "text/x-python",
   "name": "python",
   "nbconvert_exporter": "python",
   "pygments_lexer": "ipython3",
   "version": "3.7.3"
  }
 },
 "nbformat": 4,
 "nbformat_minor": 2
}
