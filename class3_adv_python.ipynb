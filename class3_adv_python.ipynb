{
 "cells": [
  {
   "cell_type": "code",
   "execution_count": 23,
   "metadata": {},
   "outputs": [],
   "source": [
    "# FORM MAKING\n",
    "\n",
    "#importing frame\n",
    "import tkinter as tk\n",
    "top=Tk()\n",
    "top.title(\"Frame\")\n",
    "top.mainloop()#should be written at end of frame work"
   ]
  },
  {
   "cell_type": "code",
   "execution_count": 2,
   "metadata": {},
   "outputs": [],
   "source": [
    "#entering button into frame\n",
    "import tkinter as tk\n",
    "top=Tk()\n",
    "top.title(\"Frame\")\n",
    "button=tk.Button(top,text=\"click\",width=25)\n",
    "button.pack()# .pack() is used to incorporate that thing with frame\n",
    "top.mainloop()"
   ]
  },
  {
   "cell_type": "code",
   "execution_count": 5,
   "metadata": {},
   "outputs": [],
   "source": [
    "#fixing size of frame window\n",
    "from tkinter import *\n",
    "top=Tk()\n",
    "top.title(\"Frame\")\n",
    "c=Canvas(top,width=100,height=80)\n",
    "c.pack()\n",
    "Canvas_height=20\n",
    "Canvas_width=200\n",
    "button=tk.Button(top,text=\"click\",width=25)\n",
    "button.pack()\n",
    "top.mainloop()"
   ]
  },
  {
   "cell_type": "code",
   "execution_count": 8,
   "metadata": {},
   "outputs": [],
   "source": [
    "#fixing dimensions of button\n",
    "from tkinter import *\n",
    "top=Tk()\n",
    "top.title(\"Frame\")\n",
    "c=Canvas(top,width=100,height=80)\n",
    "button=tk.Button(top,text=\"click\",width=25)\n",
    "button.grid(row=0,column=1)\n",
    "top.mainloop()"
   ]
  },
  {
   "cell_type": "code",
   "execution_count": 9,
   "metadata": {},
   "outputs": [],
   "source": [
    "#for multiple buttons\n",
    "from tkinter import *\n",
    "top=Tk()\n",
    "top.title(\"Frame\")\n",
    "c=Canvas(top,width=100,height=80)\n",
    "button=tk.Button(top,text=\"refresh\",width=25)\n",
    "button.grid(row=0,column=0)\n",
    "button=tk.Button(top,text=\"click\",width=25)\n",
    "button.grid(row=0,column=1)\n",
    "button=tk.Button(top,text=\"save\",width=25)\n",
    "button.grid(row=1,column=0)\n",
    "top.mainloop()"
   ]
  },
  {
   "cell_type": "code",
   "execution_count": 11,
   "metadata": {},
   "outputs": [],
   "source": [
    "#to add a line\n",
    "from tkinter import *\n",
    "top=Tk()\n",
    "top.title(\"Frame\")\n",
    "c=Canvas(top,width=100,height=80)\n",
    "c.pack()\n",
    "w=200\n",
    "h=20\n",
    "y=int(h/2)\n",
    "c.create_line(0,y,w,y)\n",
    "top.mainloop()"
   ]
  },
  {
   "cell_type": "code",
   "execution_count": 15,
   "metadata": {},
   "outputs": [],
   "source": [
    "# checkbox import\n",
    "from tkinter import *\n",
    "top=Tk()\n",
    "top.title(\"Frame\")\n",
    "v1=IntVar()\n",
    "v2=IntVar()\n",
    "v3=IntVar()\n",
    "Checkbutton(top,text='CAR', variable=v1).grid(row=0,column=1)\n",
    "Checkbutton(top,text='BIKE', variable=v2).grid(row=0,column=2)\n",
    "Checkbutton(top,text='LAPTOP', variable=v3).grid(row=0,column=3)\n",
    "top.mainloop()"
   ]
  },
  {
   "cell_type": "code",
   "execution_count": 17,
   "metadata": {},
   "outputs": [],
   "source": [
    "# textbox import\n",
    "from tkinter import *\n",
    "top=Tk()\n",
    "top.title(\"Frames\")\n",
    "Label(top,text='FIRST NAME').grid(row=0,column=0)\n",
    "e1=Entry(top)\n",
    "e1.grid(row=0,column=1)\n",
    "Label(top,text='LAST NAME').grid(row=1,column=0)\n",
    "e1=Entry(top)\n",
    "e1.grid(row=1,column=1)\n",
    "top.mainloop()"
   ]
  },
  {
   "cell_type": "code",
   "execution_count": 8,
   "metadata": {},
   "outputs": [],
   "source": [
    "# listbox import\n",
    "from tkinter import *\n",
    "top=Tk()\n",
    "top.title(\"Frames\")\n",
    "lb=Listbox(top)\n",
    "lb.insert(1,'PYTHON')\n",
    "lb.insert(2,'JAVA')\n",
    "lb.insert(3,'C')\n",
    "lb.insert(4,'C++')\n",
    "lb.insert(5,'ANDROID')\n",
    "lb.pack()\n",
    "top.mainloop()"
   ]
  },
  {
   "cell_type": "code",
   "execution_count": 3,
   "metadata": {},
   "outputs": [],
   "source": [
    "# menu item import\n",
    "from tkinter import *\n",
    "top=Tk()\n",
    "top.title(\"Frames\")\n",
    "menu=Menu(top)\n",
    "top.config(menu=menu)\n",
    "filemenu=Menu(menu)\n",
    "menu.add_cascade(label='FILE',menu=filemenu)\n",
    "filemenu.add_command(label='NEW')\n",
    "filemenu.add_command(label='OPEN')\n",
    "filemenu.add_separator()\n",
    "filemenu.add_command(label='EXIT',command=top.quit)\n",
    "Editmenu=Menu(menu)\n",
    "menu.add_cascade(label='CUT',menu=Editmenu)\n",
    "Editmenu.add_command(label='Copy')\n",
    "Editmenu.add_command(label='Paste')\n",
    "top.mainloop()"
   ]
  },
  {
   "cell_type": "code",
   "execution_count": 5,
   "metadata": {},
   "outputs": [],
   "source": [
    "#radiobutton import\n",
    "from tkinter import *\n",
    "top=Tk()\n",
    "top.title(\"Frames\")\n",
    "v=IntVar()\n",
    "Radiobutton(top,text='MALE',variable=v,value=1).grid(row=0,column=0)\n",
    "Radiobutton(top,text='FEMALE',variable=v,value=2).grid(row=1,column=0)\n",
    "top.mainloop()"
   ]
  },
  {
   "cell_type": "code",
   "execution_count": 6,
   "metadata": {},
   "outputs": [],
   "source": [
    "# create a window and show\n",
    "#employee name\n",
    "#employee number\n",
    "#email\n",
    "#city(choose from list)\n",
    "#dob\n",
    "#gender(option)\n",
    "#vehicle(select)\n",
    "#qualification(select)\n",
    "#save and refresh buttons"
   ]
  },
  {
   "cell_type": "code",
   "execution_count": 25,
   "metadata": {},
   "outputs": [
    {
     "name": "stderr",
     "output_type": "stream",
     "text": [
      "Exception in Tkinter callback\n",
      "Traceback (most recent call last):\n",
      "  File \"C:\\Users\\asitk\\Anaconda3\\lib\\tkinter\\__init__.py\", line 1705, in __call__\n",
      "    return self.func(*args)\n",
      "  File \"<ipython-input-25-bdc78e8b6710>\", line 6, in save\n",
      "    execfile(\"file 1.txt\",globals())\n",
      "NameError: name 'execfile' is not defined\n"
     ]
    }
   ],
   "source": [
    "from tkinter import *\n",
    "top=Tk()\n",
    "def clear():\n",
    "    top.destroy()\n",
    "def save():\n",
    "    execfile(\"file 1.txt\",globals())# here file name is test name is which now does not exist \n",
    "top.title(\"Frames\")\n",
    "Label(text='EMPLOYEE NAME').grid(row=0,column=0)\n",
    "e1=Entry(top)\n",
    "e1.grid(row=0,column=1)\n",
    "Label(text='EMPLOYEE NUMBER').grid(row=1,column=0)\n",
    "e1=Entry(top)\n",
    "e1.grid(row=1,column=1)\n",
    "Label(text='EMAIL').grid(row=2,column=0)\n",
    "e1=Entry(top)\n",
    "e1.grid(row=2,column=1)\n",
    "Label(text='CITY').grid(row=3,column=0)\n",
    "lb=Listbox(top)\n",
    "lb.insert(1,'KOLKATA')\n",
    "lb.insert(2,'MUMBAI')\n",
    "lb.insert(3,'JAIPUR')\n",
    "lb.insert(4,'PATNA')\n",
    "lb.insert(5,'RANCHI')\n",
    "lb.insert(6,'KHARAGPUR')\n",
    "lb.insert(7,'AHEMDABAD')\n",
    "lb.insert(8,'CHENNAI')\n",
    "lb.insert(9,'KANPUR')\n",
    "lb.insert(10,'OTHERS')\n",
    "lb.grid(row=3,column=1)\n",
    "Label(text='DOB').grid(row=4,column=0)\n",
    "e1=Entry(top)\n",
    "e1.grid(row=4,column=1)\n",
    "v=IntVar()\n",
    "Label(text='GENDER').grid(row=5,column=0)\n",
    "Radiobutton(text='MALE',variable=v,value=1).grid(row=5,column=1)\n",
    "Radiobutton(text='FEMALE',variable=v,value=2).grid(row=5,column=2)\n",
    "v1=IntVar()\n",
    "v2=IntVar()\n",
    "v3=IntVar()\n",
    "Label(text='VEHICLES').grid(row=6,column=0)\n",
    "Checkbutton(text='CAR', variable=v1).grid(row=6,column=1)\n",
    "Checkbutton(text='BIKE', variable=v2).grid(row=6,column=2)\n",
    "Checkbutton(text='SCOOTY', variable=v3).grid(row=6,column=3)\n",
    "r1=IntVar()\n",
    "r2=IntVar()\n",
    "r3=IntVar()\n",
    "r4=IntVar()\n",
    "Label(text='QUALIFICATIONS').grid(row=7,column=0)\n",
    "Checkbutton(text='MATRICULATION', variable=r1).grid(row=7,column=1)\n",
    "Checkbutton(text='INTERMEDIATE', variable=r2).grid(row=7,column=2)\n",
    "Checkbutton(text='BACHELORS', variable=r3).grid(row=7,column=3)\n",
    "Checkbutton(text='MASTERS', variable=r4).grid(row=7,column=4)\n",
    "button=Button(text=\"SAVE\",width=25,command=save)\n",
    "button.grid(row=8,column=0)\n",
    "button=Button(text=\"REFRESH\",width=25,command=clear)\n",
    "button.grid(row=8,column=1)\n",
    "top.mainloop()"
   ]
  },
  {
   "cell_type": "code",
   "execution_count": null,
   "metadata": {},
   "outputs": [],
   "source": []
  }
 ],
 "metadata": {
  "kernelspec": {
   "display_name": "Python 3",
   "language": "python",
   "name": "python3"
  },
  "language_info": {
   "codemirror_mode": {
    "name": "ipython",
    "version": 3
   },
   "file_extension": ".py",
   "mimetype": "text/x-python",
   "name": "python",
   "nbconvert_exporter": "python",
   "pygments_lexer": "ipython3",
   "version": "3.7.3"
  }
 },
 "nbformat": 4,
 "nbformat_minor": 2
}
