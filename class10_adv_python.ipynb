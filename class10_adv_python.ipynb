{
 "cells": [
  {
   "cell_type": "code",
   "execution_count": 1,
   "metadata": {},
   "outputs": [
    {
     "name": "stdout",
     "output_type": "stream",
     "text": [
      "year 2019\n"
     ]
    }
   ],
   "source": [
    "import time\n",
    "import datetime\n",
    "print(\"year\",datetime.date.today().strftime(\"%Y\"))"
   ]
  },
  {
   "cell_type": "code",
   "execution_count": 4,
   "metadata": {},
   "outputs": [
    {
     "name": "stdout",
     "output_type": "stream",
     "text": [
      "month August\n"
     ]
    }
   ],
   "source": [
    "import time\n",
    "import datetime\n",
    "print(\"month\",datetime.date.today().strftime(\"%B\"))"
   ]
  },
  {
   "cell_type": "code",
   "execution_count": 5,
   "metadata": {},
   "outputs": [
    {
     "name": "stdout",
     "output_type": "stream",
     "text": [
      "date 08/30/19\n"
     ]
    }
   ],
   "source": [
    "import time\n",
    "import datetime\n",
    "print(\"date\",datetime.date.today().strftime(\"%D\"))"
   ]
  },
  {
   "cell_type": "code",
   "execution_count": 13,
   "metadata": {},
   "outputs": [
    {
     "name": "stdout",
     "output_type": "stream",
     "text": [
      "Day of week Friday\n"
     ]
    }
   ],
   "source": [
    "import time\n",
    "import datetime\n",
    "print(\"Day of week\",datetime.date.today().strftime(\"%A\"))"
   ]
  },
  {
   "cell_type": "code",
   "execution_count": 11,
   "metadata": {},
   "outputs": [
    {
     "name": "stdout",
     "output_type": "stream",
     "text": [
      "day of year 242\n"
     ]
    }
   ],
   "source": [
    "import time\n",
    "import datetime\n",
    "print(\"day of year\",datetime.date.today().strftime(\"%j\"))"
   ]
  },
  {
   "cell_type": "code",
   "execution_count": 12,
   "metadata": {},
   "outputs": [
    {
     "name": "stdout",
     "output_type": "stream",
     "text": [
      "day of month 30\n"
     ]
    }
   ],
   "source": [
    "import time\n",
    "import datetime\n",
    "print(\"day of month\",datetime.date.today().strftime(\"%d\"))"
   ]
  },
  {
   "cell_type": "code",
   "execution_count": 14,
   "metadata": {},
   "outputs": [
    {
     "name": "stdout",
     "output_type": "stream",
     "text": [
      "13:53:02.917225\n"
     ]
    }
   ],
   "source": [
    "import datetime\n",
    "print(datetime.datetime.now().time())"
   ]
  },
  {
   "cell_type": "code",
   "execution_count": 17,
   "metadata": {},
   "outputs": [
    {
     "name": "stdout",
     "output_type": "stream",
     "text": [
      "Today date : 2019-08-30 14:00:53.959659\n",
      "date after 2 days : 2019-09-01 14:00:53.959659\n"
     ]
    }
   ],
   "source": [
    "from datetime import datetime,timedelta\n",
    "i=datetime.now()\n",
    "print(\"Today date :\",i)\n",
    "i2=i+timedelta(days=2)\n",
    "print(\"date after 2 days :\",i2)"
   ]
  },
  {
   "cell_type": "code",
   "execution_count": 18,
   "metadata": {},
   "outputs": [
    {
     "name": "stdout",
     "output_type": "stream",
     "text": [
      "Today date : 2019-08-30 14:02:04.814703\n",
      "date after 2 days : 2019-09-01 14:02:04.814703\n",
      "date after 1 year : 2020-08-29 14:02:04.814703\n"
     ]
    }
   ],
   "source": [
    "from datetime import datetime,timedelta\n",
    "i=datetime.now()\n",
    "print(\"Today date :\",i)\n",
    "i2=i+timedelta(days=2)\n",
    "print(\"date after 2 days :\",i2)\n",
    "i3=i+timedelta(days=365)\n",
    "print(\"date after 1 year :\",i3)"
   ]
  },
  {
   "cell_type": "code",
   "execution_count": 21,
   "metadata": {},
   "outputs": [
    {
     "name": "stdout",
     "output_type": "stream",
     "text": [
      "Today date : 2019-08-30 14:04:33.646362\n",
      "date after 2 days : 2019-09-01 14:04:33.646362\n",
      "date after 1 year : 2020-08-29 14:04:33.646362\n",
      "time after 5 hour : 2019-08-30 19:04:33.646362\n"
     ]
    }
   ],
   "source": [
    "from datetime import datetime,timedelta\n",
    "i=datetime.now()\n",
    "print(\"Today date :\",i)\n",
    "i2=i+timedelta(days=2)\n",
    "print(\"date after 2 days :\",i2)\n",
    "i3=i+timedelta(days=365)\n",
    "print(\"date after 1 year :\",i3)\n",
    "i4=i+timedelta(hours=5)\n",
    "print(\"time after 5 hour :\",i4)\n"
   ]
  },
  {
   "cell_type": "code",
   "execution_count": 22,
   "metadata": {},
   "outputs": [
    {
     "name": "stdout",
     "output_type": "stream",
     "text": [
      "tommorow : 2019-08-31 14:07:32.550431\n",
      "yesterday : 2019-08-29 14:07:32.550431\n"
     ]
    }
   ],
   "source": [
    "from datetime import datetime,timedelta\n",
    "i=datetime.now()\n",
    "i5=i+timedelta(days=1)\n",
    "print(\"tommorow :\",i5)\n",
    "i6=i+timedelta(days=-1)\n",
    "print(\"yesterday :\",i6)"
   ]
  },
  {
   "cell_type": "code",
   "execution_count": 24,
   "metadata": {},
   "outputs": [
    {
     "name": "stdout",
     "output_type": "stream",
     "text": [
      "2019-08-29\n",
      "2019-08-30\n",
      "2019-08-31\n"
     ]
    }
   ],
   "source": [
    "# using Numpy\n",
    "import numpy as np\n",
    "yesterday=np.datetime64('today','D')-np.timedelta64(1,'D')\n",
    "print(yesterday)\n",
    "today=np.datetime64('today','D')\n",
    "print(today)\n",
    "tommorow=np.datetime64('today','D')+np.timedelta64(1,'D')\n",
    "print(tommorow)"
   ]
  },
  {
   "cell_type": "code",
   "execution_count": 26,
   "metadata": {},
   "outputs": [
    {
     "name": "stdout",
     "output_type": "stream",
     "text": [
      "August,2019\n",
      "['2019-08-01' '2019-08-02' '2019-08-03' '2019-08-04' '2019-08-05'\n",
      " '2019-08-06' '2019-08-07' '2019-08-08' '2019-08-09' '2019-08-10'\n",
      " '2019-08-11' '2019-08-12' '2019-08-13' '2019-08-14' '2019-08-15'\n",
      " '2019-08-16' '2019-08-17' '2019-08-18' '2019-08-19' '2019-08-20'\n",
      " '2019-08-21' '2019-08-22' '2019-08-23' '2019-08-24' '2019-08-25'\n",
      " '2019-08-26' '2019-08-27' '2019-08-28' '2019-08-29' '2019-08-30'\n",
      " '2019-08-31']\n"
     ]
    }
   ],
   "source": [
    "import numpy as np\n",
    "print(\"August,2019\")\n",
    "print(np.arange('2019-08','2019-09',dtype='datetime64[D]'))"
   ]
  },
  {
   "cell_type": "code",
   "execution_count": 3,
   "metadata": {},
   "outputs": [
    {
     "name": "stdout",
     "output_type": "stream",
     "text": [
      "not leap year\n"
     ]
    }
   ],
   "source": [
    "#using datetime check an input is leap year or not\n",
    "import numpy as np\n",
    "p=np.arange('2019-01','2020-01',dtype='datetime64[D]')\n",
    "if(len(p)==365):\n",
    "    print(\"not leap year\")\n",
    "else:\n",
    "    print(\"leap year\")\n"
   ]
  },
  {
   "cell_type": "code",
   "execution_count": 5,
   "metadata": {},
   "outputs": [
    {
     "name": "stdout",
     "output_type": "stream",
     "text": [
      "enter year2000\n",
      "leap year\n"
     ]
    }
   ],
   "source": [
    "import numpy as np\n",
    "n=input(\"enter year\")\n",
    "p=np.arange(n+\"-02\",n+\"-03\",dtype='datetime64[D]')\n",
    "if(len(p)==28):\n",
    "    print(\"not leap year\")\n",
    "else:\n",
    "    print(\"leap year\")\n"
   ]
  },
  {
   "cell_type": "code",
   "execution_count": null,
   "metadata": {},
   "outputs": [],
   "source": []
  },
  {
   "cell_type": "code",
   "execution_count": null,
   "metadata": {},
   "outputs": [],
   "source": []
  }
 ],
 "metadata": {
  "kernelspec": {
   "display_name": "Python 3",
   "language": "python",
   "name": "python3"
  },
  "language_info": {
   "codemirror_mode": {
    "name": "ipython",
    "version": 3
   },
   "file_extension": ".py",
   "mimetype": "text/x-python",
   "name": "python",
   "nbconvert_exporter": "python",
   "pygments_lexer": "ipython3",
   "version": "3.7.3"
  }
 },
 "nbformat": 4,
 "nbformat_minor": 2
}
