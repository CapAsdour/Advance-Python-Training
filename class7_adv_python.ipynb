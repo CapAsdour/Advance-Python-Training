{
 "cells": [
  {
   "cell_type": "code",
   "execution_count": 3,
   "metadata": {},
   "outputs": [
    {
     "data": {
      "image/png": "[encoded data removed]",
      "text/plain": [
       "<Figure size 432x288 with 1 Axes>"
      ]
     },
     "metadata": {
      "needs_background": "light"
     },
     "output_type": "display_data"
    }
   ],
   "source": [
    "# plot a scatter graph using random values of x and y\n",
    "import matplotlib.pyplot as plt\n",
    "import numpy as np\n",
    "plt.title('graph')\n",
    "x=np.random.randint(0,10,size=20)\n",
    "y=np.random.randint(0,10,size=20)\n",
    "plt.scatter(x,y)\n",
    "plt.show()\n"
   ]
  },
  {
   "cell_type": "code",
   "execution_count": 4,
   "metadata": {},
   "outputs": [
    {
     "name": "stdout",
     "output_type": "stream",
     "text": [
      "[[ 7  8  9]\n",
      " [10 11 12]]\n"
     ]
    }
   ],
   "source": [
    "import numpy as np\n",
    "k=[7,8,9,10,11,12]\n",
    "x=np.array(k).reshape(2,3)\n",
    "print(x)"
   ]
  },
  {
   "cell_type": "code",
   "execution_count": 6,
   "metadata": {},
   "outputs": [
    {
     "name": "stdout",
     "output_type": "stream",
     "text": [
      "[[ 9  8  7]\n",
      " [12 11 10]]\n"
     ]
    }
   ],
   "source": [
    "import numpy as np\n",
    "k=[7,8,9,10,11,12]\n",
    "x=np.array(k).reshape(2,3)\n",
    "print(np.fliplr(x))"
   ]
  },
  {
   "cell_type": "code",
   "execution_count": 7,
   "metadata": {},
   "outputs": [
    {
     "name": "stdout",
     "output_type": "stream",
     "text": [
      "[[10 11 12]\n",
      " [ 7  8  9]]\n"
     ]
    }
   ],
   "source": [
    "import numpy as np\n",
    "k=[7,8,9,10,11,12]\n",
    "x=np.array(k).reshape(2,3)\n",
    "print(np.flipud(x))"
   ]
  },
  {
   "cell_type": "code",
   "execution_count": 8,
   "metadata": {},
   "outputs": [
    {
     "name": "stdout",
     "output_type": "stream",
     "text": [
      "[[0 1 2]\n",
      " [3 4 5]]\n"
     ]
    }
   ],
   "source": [
    "import numpy as np\n",
    "k=[7,8,9,10,11,12]\n",
    "x=np.array(k).reshape(2,3)\n",
    "y=np.arange(6).reshape(2,3)\n",
    "print(y)"
   ]
  },
  {
   "cell_type": "code",
   "execution_count": 10,
   "metadata": {},
   "outputs": [
    {
     "name": "stdout",
     "output_type": "stream",
     "text": [
      "[[2 1 0]\n",
      " [5 4 3]]\n",
      "[[5 4 3]\n",
      " [2 1 0]]\n"
     ]
    }
   ],
   "source": [
    "import numpy as np\n",
    "k=[7,8,9,10,11,12]\n",
    "x=np.array(k).reshape(2,3)\n",
    "y=np.arange(6).reshape(2,3)\n",
    "y1=np.fliplr(y)\n",
    "print(y1)\n",
    "y2=np.flipud(y1)\n",
    "print(y2)"
   ]
  },
  {
   "cell_type": "code",
   "execution_count": 11,
   "metadata": {},
   "outputs": [
    {
     "name": "stdout",
     "output_type": "stream",
     "text": [
      "[ 1  2  7  9 12 17]\n"
     ]
    }
   ],
   "source": [
    "import numpy as np\n",
    "a=np.array([1,2,7,9,12,17])\n",
    "print(a)"
   ]
  },
  {
   "cell_type": "code",
   "execution_count": 12,
   "metadata": {},
   "outputs": [
    {
     "name": "stdout",
     "output_type": "stream",
     "text": [
      "25704\n"
     ]
    }
   ],
   "source": [
    "import numpy as np\n",
    "a=np.array([1,2,7,9,12,17])\n",
    "print(a.prod())#product of elwements"
   ]
  },
  {
   "cell_type": "code",
   "execution_count": 13,
   "metadata": {},
   "outputs": [
    {
     "name": "stdout",
     "output_type": "stream",
     "text": [
      "[ 1  3 10 19 31 48]\n"
     ]
    }
   ],
   "source": [
    "import numpy as np\n",
    "a=np.array([1,2,7,9,12,17])\n",
    "print(a.cumsum())#cumilative sum"
   ]
  },
  {
   "cell_type": "code",
   "execution_count": 14,
   "metadata": {},
   "outputs": [
    {
     "name": "stdout",
     "output_type": "stream",
     "text": [
      "[ 1  2  7  9 12 17  5  6  8  9 11 19]\n"
     ]
    }
   ],
   "source": [
    "import numpy as np\n",
    "a=np.array([1,2,7,9,12,17])\n",
    "b=np.array([5,6,8,9,11,19])\n",
    "ab=np.hstack((a,b)) #stack creation\n",
    "print(ab)"
   ]
  },
  {
   "cell_type": "code",
   "execution_count": 15,
   "metadata": {},
   "outputs": [
    {
     "name": "stdout",
     "output_type": "stream",
     "text": [
      "[[ 1  2  7  9 12 17]\n",
      " [ 5  6  8  9 11 19]]\n"
     ]
    }
   ],
   "source": [
    "import numpy as np\n",
    "a=np.array([1,2,7,9,12,17])\n",
    "b=np.array([5,6,8,9,11,19])\n",
    "x1=np.vstack((a,b))# combines to make 2 list stored in vertical stack and uses one after another\n",
    "print(x1)"
   ]
  },
  {
   "cell_type": "code",
   "execution_count": 21,
   "metadata": {},
   "outputs": [
    {
     "name": "stdout",
     "output_type": "stream",
     "text": [
      "[array([1, 2, 7, 9]), array([12, 17,  5,  6]), array([ 8,  9, 11, 19])]\n"
     ]
    }
   ],
   "source": [
    "import numpy as np\n",
    "a=np.array([1,2,7,9,12,17])\n",
    "b=np.array([5,6,8,9,11,19])\n",
    "ab=np.hstack((a,b))\n",
    "print(np.hsplit(ab,3))"
   ]
  },
  {
   "cell_type": "code",
   "execution_count": 17,
   "metadata": {},
   "outputs": [
    {
     "name": "stdout",
     "output_type": "stream",
     "text": [
      "[array([[ 1,  2,  7,  9, 12, 17]]), array([[ 5,  6,  8,  9, 11, 19]])]\n"
     ]
    }
   ],
   "source": [
    "import numpy as np\n",
    "a=np.array([1,2,7,9,12,17])\n",
    "b=np.array([5,6,8,9,11,19])\n",
    "x1=np.vstack((a,b))\n",
    "print(np.vsplit(x1,2))"
   ]
  },
  {
   "cell_type": "code",
   "execution_count": 22,
   "metadata": {},
   "outputs": [
    {
     "name": "stdout",
     "output_type": "stream",
     "text": [
      "[[0.02615086 0.84570461]\n",
      " [0.305333   0.26629849]\n",
      " [0.82672348 0.26991117]\n",
      " [0.65904738 0.86772086]\n",
      " [0.90189578 0.62032863]\n",
      " [0.22121808 0.07387246]]\n",
      "[[0.27697915 0.23667778]\n",
      " [0.2792968  0.71593691]\n",
      " [0.92792023 0.50083845]\n",
      " [0.63595189 0.60436982]\n",
      " [0.05113805 0.10460973]\n",
      " [0.04740161 0.54944362]]\n"
     ]
    }
   ],
   "source": [
    "import numpy as np\n",
    "A=np.random.random(12).reshape(6,2)\n",
    "B=np.random.random(12).reshape(6,2)\n",
    "print(A)\n",
    "print(B)"
   ]
  },
  {
   "cell_type": "code",
   "execution_count": 24,
   "metadata": {},
   "outputs": [
    {
     "name": "stdout",
     "output_type": "stream",
     "text": [
      "[[0.68406404 0.07839224]\n",
      " [0.15648328 0.21801963]\n",
      " [0.41205801 0.16160135]\n",
      " [0.98811072 0.13992413]\n",
      " [0.29173118 0.226528  ]\n",
      " [0.81271638 0.60314316]]\n",
      "[[0.12178049 0.83983092]\n",
      " [0.87425931 0.32892424]\n",
      " [0.90636833 0.49166316]\n",
      " [0.85458804 0.92897908]\n",
      " [0.23660533 0.35720863]\n",
      " [0.77174892 0.13950238]]\n",
      "[[ 0.56228355 -0.76143868]\n",
      " [-0.71777603 -0.11090462]\n",
      " [-0.49431032 -0.33006181]\n",
      " [ 0.13352268 -0.78905495]\n",
      " [ 0.05512585 -0.13068063]\n",
      " [ 0.04096746  0.46364078]]\n"
     ]
    }
   ],
   "source": [
    "import numpy as np\n",
    "A=np.random.random(12).reshape(6,2)\n",
    "B=np.random.random(12).reshape(6,2)\n",
    "Y=A-B\n",
    "print(A)\n",
    "print(B)\n",
    "print(Y)"
   ]
  },
  {
   "cell_type": "code",
   "execution_count": 26,
   "metadata": {},
   "outputs": [
    {
     "name": "stdout",
     "output_type": "stream",
     "text": [
      "[[-0.84517775 -0.02020101]\n",
      " [ 0.25638111 -0.84917349]\n",
      " [ 0.3445078  -0.42555838]\n",
      " [ 0.00941213  0.75040095]\n",
      " [ 0.67385464  0.21119839]\n",
      " [-0.30109042  0.04667649]]\n",
      "[[7.14325437e-01 4.08080963e-04]\n",
      " [6.57312752e-02 7.21095617e-01]\n",
      " [1.18685627e-01 1.81099938e-01]\n",
      " [8.85882192e-05 5.63101585e-01]\n",
      " [4.54080074e-01 4.46047589e-02]\n",
      " [9.06554403e-02 2.17869434e-03]]\n"
     ]
    }
   ],
   "source": [
    "import numpy as np\n",
    "A=np.random.random(12).reshape(6,2)\n",
    "B=np.random.random(12).reshape(6,2)\n",
    "Y=A-B\n",
    "Y1=np.square(Y)\n",
    "print(Y)\n",
    "print(Y1)"
   ]
  },
  {
   "cell_type": "code",
   "execution_count": 28,
   "metadata": {},
   "outputs": [
    {
     "name": "stdout",
     "output_type": "stream",
     "text": [
      "[[-0.20937856 -0.65307313]\n",
      " [-0.05417378  0.51775579]\n",
      " [ 0.06224997 -0.2444255 ]\n",
      " [ 0.13985344 -0.11877798]\n",
      " [ 0.63363626 -0.04070317]\n",
      " [-0.21398224 -0.04482528]]\n",
      "[[0.04383938 0.42650451]\n",
      " [0.0029348  0.26807106]\n",
      " [0.00387506 0.05974383]\n",
      " [0.01955899 0.01410821]\n",
      " [0.4014949  0.00165675]\n",
      " [0.0457884  0.00200931]]\n",
      "[0.42650451 0.26807106 0.05974383 0.01410821 0.00165675 0.00200931]\n"
     ]
    }
   ],
   "source": [
    "import numpy as np\n",
    "A=np.random.random(12).reshape(6,2)\n",
    "B=np.random.random(12).reshape(6,2)\n",
    "Y=A-B\n",
    "Y1=np.square(Y)\n",
    "print(Y)\n",
    "print(Y1)\n",
    "print(Y1[:,1])"
   ]
  },
  {
   "cell_type": "code",
   "execution_count": 29,
   "metadata": {},
   "outputs": [
    {
     "name": "stdout",
     "output_type": "stream",
     "text": [
      "[[-0.60897043 -0.04137959]\n",
      " [ 0.07368669 -0.26072614]\n",
      " [-0.4273677   0.57254152]\n",
      " [ 0.30620428  0.65723175]\n",
      " [-0.40451426 -0.31505417]\n",
      " [ 0.11522531  0.55689993]]\n",
      "[[0.37084498 0.00171227]\n",
      " [0.00542973 0.06797812]\n",
      " [0.18264315 0.3278038 ]\n",
      " [0.09376106 0.43195357]\n",
      " [0.16363179 0.09925913]\n",
      " [0.01327687 0.31013753]]\n",
      "[0.37084498 0.00542973 0.18264315 0.09376106 0.16363179 0.01327687]\n"
     ]
    }
   ],
   "source": [
    "import numpy as np\n",
    "A=np.random.random(12).reshape(6,2)\n",
    "B=np.random.random(12).reshape(6,2)\n",
    "Y=A-B\n",
    "Y1=np.square(Y)\n",
    "print(Y)\n",
    "print(Y1)\n",
    "print(Y1[:,0])"
   ]
  },
  {
   "cell_type": "code",
   "execution_count": 30,
   "metadata": {},
   "outputs": [
    {
     "name": "stdout",
     "output_type": "stream",
     "text": [
      "[[-0.36479124  0.12496102]\n",
      " [-0.37789094 -0.67658157]\n",
      " [-0.37784436 -0.34303768]\n",
      " [ 0.12363508  0.42762197]\n",
      " [-0.42361098 -0.07581756]\n",
      " [ 0.60102368  0.14786361]]\n",
      "[[0.13307265 0.01561526]\n",
      " [0.14280156 0.45776263]\n",
      " [0.14276636 0.11767485]\n",
      " [0.01528563 0.18286055]\n",
      " [0.17944627 0.0057483 ]\n",
      " [0.36122946 0.02186365]]\n",
      "[0.38560071 0.77496077 0.51033441 0.44513614 0.43034238 0.61894516]\n"
     ]
    }
   ],
   "source": [
    "import numpy as np\n",
    "A=np.random.random(12).reshape(6,2)\n",
    "B=np.random.random(12).reshape(6,2)\n",
    "Y=A-B\n",
    "Y1=np.square(Y)\n",
    "print(Y)\n",
    "print(Y1)\n",
    "print(np.sqrt(Y1[:,0]+Y1[:,1]))"
   ]
  },
  {
   "cell_type": "code",
   "execution_count": 32,
   "metadata": {},
   "outputs": [
    {
     "name": "stdout",
     "output_type": "stream",
     "text": [
      "45.0\n"
     ]
    }
   ],
   "source": [
    "import numpy as np\n",
    "print(np.degrees(np.pi/4.0))\n"
   ]
  },
  {
   "cell_type": "code",
   "execution_count": 34,
   "metadata": {},
   "outputs": [],
   "source": [
    "#create a bar chart using values from user\n",
    "#men=(22,30,35,35,26)\n",
    "#women=(25,32,30,35,26)\n",
    "#use multiple values on the same chart for men and women.The bar will have data by group and gender."
   ]
  },
  {
   "cell_type": "code",
   "execution_count": 43,
   "metadata": {},
   "outputs": [
    {
     "data": {
      "image/png": "[encoded data removed]",
      "text/plain": [
       "<Figure size 432x288 with 1 Axes>"
      ]
     },
     "metadata": {
      "needs_background": "light"
     },
     "output_type": "display_data"
    }
   ],
   "source": [
    "import matplotlib.pyplot as plt\n",
    "import numpy as np\n",
    "\n",
    "#data to plot\n",
    "n_groups=5\n",
    "men_means=(22,30,35,35,26)\n",
    "women_means=(25,32,30,35,26)\n",
    "#create plot\n",
    "fig,ax=plt.subplots()\n",
    "index=np.arange(n_groups)\n",
    "bar_width=0.35\n",
    "opacity=0.8\n",
    "rects1=plt.bar(index,men_means,bar_width,alpha=opacity,color='red',label='men')\n",
    "rects2=plt.bar(index+bar_width,women_means,bar_width,alpha=opacity,color='green',label='women')\n",
    "plt.xlabel('Person')\n",
    "plt.ylabel('Scores')\n",
    "plt.xticks(index+bar_width,('G1','G2','G3','G4','G5'))\n",
    "plt.title('Scores by Persons')\n",
    "plt.legend()\n",
    "plt.tight_layout()\n",
    "plt.show()"
   ]
  },
  {
   "cell_type": "code",
   "execution_count": 44,
   "metadata": {},
   "outputs": [
    {
     "name": "stdout",
     "output_type": "stream",
     "text": [
      "[[0.7922863  0.58452132]\n",
      " [0.96538741 0.5987174 ]\n",
      " [0.97551001 0.78700774]]\n"
     ]
    }
   ],
   "source": [
    "import numpy as np\n",
    "k11=np.random.random(6).reshape(3,2)\n",
    "print(k11)"
   ]
  },
  {
   "cell_type": "code",
   "execution_count": 46,
   "metadata": {},
   "outputs": [
    {
     "name": "stdout",
     "output_type": "stream",
     "text": [
      "[[0. 0.]\n",
      " [0. 1.]\n",
      " [0. 0.]]\n",
      "[[1. 1.]\n",
      " [1. 1.]\n",
      " [1. 1.]]\n",
      "[[0. 0.]\n",
      " [0. 0.]\n",
      " [0. 0.]]\n",
      "0.22143487415009366\n",
      "0.762850217865622\n",
      "0.41550865110309987\n",
      "0.1724625811496574\n"
     ]
    }
   ],
   "source": [
    "import numpy as np\n",
    "k11=np.random.random(6).reshape(3,2)\n",
    "print(np.round(k11))\n",
    "print(np.ceil(k11))\n",
    "print(np.floor(k11))\n",
    "print(k11.min())\n",
    "print(k11.max())\n",
    "print(k11.mean())\n",
    "print(k11.std())"
   ]
  },
  {
   "cell_type": "code",
   "execution_count": 47,
   "metadata": {},
   "outputs": [
    {
     "name": "stdout",
     "output_type": "stream",
     "text": [
      "[[0.17187402 0.03883023 0.34809551]\n",
      " [0.34000834 0.2045165  0.09942113]\n",
      " [0.69635882 0.59790164 0.83093919]]\n",
      "[[0.2734215  0.69452082 0.61121191]\n",
      " [0.84255081 0.46565527 0.89934365]\n",
      " [0.76532973 0.567068   0.69873318]]\n"
     ]
    }
   ],
   "source": [
    "import numpy as np\n",
    "e1=np.random.random(9).reshape(3,3)\n",
    "e2=np.random.random(9).reshape(3,3)\n",
    "print(e1)\n",
    "print(e2)"
   ]
  },
  {
   "cell_type": "code",
   "execution_count": 48,
   "metadata": {},
   "outputs": [
    {
     "name": "stdout",
     "output_type": "stream",
     "text": [
      "[[1.28290325 1.38039363 1.26942687]\n",
      " [1.11227435 1.12881617 1.06269726]\n",
      " [0.73746351 0.61845637 0.63736014]]\n"
     ]
    }
   ],
   "source": [
    "import numpy as np\n",
    "e1=np.random.random(9).reshape(3,3)\n",
    "e2=np.random.random(9).reshape(3,3)\n",
    "print(e1.dot(e2).dot(e2))"
   ]
  },
  {
   "cell_type": "code",
   "execution_count": 49,
   "metadata": {},
   "outputs": [
    {
     "data": {
      "text/plain": [
       "0    1\n",
       "1    2\n",
       "2    3\n",
       "3    4\n",
       "4    5\n",
       "5    6\n",
       "6    7\n",
       "dtype: int64"
      ]
     },
     "execution_count": 49,
     "metadata": {},
     "output_type": "execute_result"
    }
   ],
   "source": [
    "import pandas\n",
    "D=[1,2,3,4,5,6,7]\n",
    "s=pandas.Series(D)\n",
    "s"
   ]
  },
  {
   "cell_type": "code",
   "execution_count": 50,
   "metadata": {},
   "outputs": [
    {
     "data": {
      "text/plain": [
       "0    a\n",
       "1    b\n",
       "2    c\n",
       "3    d\n",
       "4    e\n",
       "5    f\n",
       "dtype: object"
      ]
     },
     "execution_count": 50,
     "metadata": {},
     "output_type": "execute_result"
    }
   ],
   "source": [
    "index=['a','b','c','d','e','f']\n",
    "s=pandas.Series(index)\n",
    "s"
   ]
  },
  {
   "cell_type": "code",
   "execution_count": 51,
   "metadata": {},
   "outputs": [
    {
     "data": {
      "text/plain": [
       "0    [2, 3, 4]\n",
       "1    [5, 6, 7]\n",
       "dtype: object"
      ]
     },
     "execution_count": 51,
     "metadata": {},
     "output_type": "execute_result"
    }
   ],
   "source": [
    "Data=[[2,3,4],[5,6,7]]\n",
    "sn=pandas.Series(Data)\n",
    "sn"
   ]
  },
  {
   "cell_type": "code",
   "execution_count": 52,
   "metadata": {},
   "outputs": [
    {
     "data": {
      "text/html": [
       "<div>\n",
       "<style scoped>\n",
       "    .dataframe tbody tr th:only-of-type {\n",
       "        vertical-align: middle;\n",
       "    }\n",
       "\n",
       "    .dataframe tbody tr th {\n",
       "        vertical-align: top;\n",
       "    }\n",
       "\n",
       "    .dataframe thead th {\n",
       "        text-align: right;\n",
       "    }\n",
       "</style>\n",
       "<table border=\"1\" class=\"dataframe\">\n",
       "  <thead>\n",
       "    <tr style=\"text-align: right;\">\n",
       "      <th></th>\n",
       "      <th>one</th>\n",
       "      <th>two</th>\n",
       "    </tr>\n",
       "  </thead>\n",
       "  <tbody>\n",
       "    <tr>\n",
       "      <th>a</th>\n",
       "      <td>1.0</td>\n",
       "      <td>1</td>\n",
       "    </tr>\n",
       "    <tr>\n",
       "      <th>b</th>\n",
       "      <td>2.0</td>\n",
       "      <td>2</td>\n",
       "    </tr>\n",
       "    <tr>\n",
       "      <th>c</th>\n",
       "      <td>3.0</td>\n",
       "      <td>3</td>\n",
       "    </tr>\n",
       "    <tr>\n",
       "      <th>d</th>\n",
       "      <td>NaN</td>\n",
       "      <td>4</td>\n",
       "    </tr>\n",
       "  </tbody>\n",
       "</table>\n",
       "</div>"
      ],
      "text/plain": [
       "   one  two\n",
       "a  1.0    1\n",
       "b  2.0    2\n",
       "c  3.0    3\n",
       "d  NaN    4"
      ]
     },
     "execution_count": 52,
     "metadata": {},
     "output_type": "execute_result"
    }
   ],
   "source": [
    "d={'one':pandas.Series([1,2,3],index=['a','b','c']),'two':pandas.Series([1,2,3,4],index=['a','b','c','d'])}\n",
    "df=pandas.DataFrame(d)\n",
    "df"
   ]
  },
  {
   "cell_type": "code",
   "execution_count": 53,
   "metadata": {},
   "outputs": [
    {
     "data": {
      "text/html": [
       "<div>\n",
       "<style scoped>\n",
       "    .dataframe tbody tr th:only-of-type {\n",
       "        vertical-align: middle;\n",
       "    }\n",
       "\n",
       "    .dataframe tbody tr th {\n",
       "        vertical-align: top;\n",
       "    }\n",
       "\n",
       "    .dataframe thead th {\n",
       "        text-align: right;\n",
       "    }\n",
       "</style>\n",
       "<table border=\"1\" class=\"dataframe\">\n",
       "  <thead>\n",
       "    <tr style=\"text-align: right;\">\n",
       "      <th></th>\n",
       "      <th>one</th>\n",
       "      <th>two</th>\n",
       "    </tr>\n",
       "  </thead>\n",
       "  <tbody>\n",
       "    <tr>\n",
       "      <th>d</th>\n",
       "      <td>NaN</td>\n",
       "      <td>4</td>\n",
       "    </tr>\n",
       "    <tr>\n",
       "      <th>b</th>\n",
       "      <td>2.0</td>\n",
       "      <td>2</td>\n",
       "    </tr>\n",
       "    <tr>\n",
       "      <th>a</th>\n",
       "      <td>1.0</td>\n",
       "      <td>1</td>\n",
       "    </tr>\n",
       "  </tbody>\n",
       "</table>\n",
       "</div>"
      ],
      "text/plain": [
       "   one  two\n",
       "d  NaN    4\n",
       "b  2.0    2\n",
       "a  1.0    1"
      ]
     },
     "execution_count": 53,
     "metadata": {},
     "output_type": "execute_result"
    }
   ],
   "source": [
    "pandas.DataFrame(d,index=['d','b','a'])"
   ]
  },
  {
   "cell_type": "code",
   "execution_count": 54,
   "metadata": {},
   "outputs": [
    {
     "data": {
      "text/html": [
       "<div>\n",
       "<style scoped>\n",
       "    .dataframe tbody tr th:only-of-type {\n",
       "        vertical-align: middle;\n",
       "    }\n",
       "\n",
       "    .dataframe tbody tr th {\n",
       "        vertical-align: top;\n",
       "    }\n",
       "\n",
       "    .dataframe thead th {\n",
       "        text-align: right;\n",
       "    }\n",
       "</style>\n",
       "<table border=\"1\" class=\"dataframe\">\n",
       "  <thead>\n",
       "    <tr style=\"text-align: right;\">\n",
       "      <th></th>\n",
       "      <th>two</th>\n",
       "      <th>three</th>\n",
       "    </tr>\n",
       "  </thead>\n",
       "  <tbody>\n",
       "    <tr>\n",
       "      <th>d</th>\n",
       "      <td>4</td>\n",
       "      <td>NaN</td>\n",
       "    </tr>\n",
       "    <tr>\n",
       "      <th>b</th>\n",
       "      <td>2</td>\n",
       "      <td>NaN</td>\n",
       "    </tr>\n",
       "    <tr>\n",
       "      <th>a</th>\n",
       "      <td>1</td>\n",
       "      <td>NaN</td>\n",
       "    </tr>\n",
       "  </tbody>\n",
       "</table>\n",
       "</div>"
      ],
      "text/plain": [
       "   two three\n",
       "d    4   NaN\n",
       "b    2   NaN\n",
       "a    1   NaN"
      ]
     },
     "execution_count": 54,
     "metadata": {},
     "output_type": "execute_result"
    }
   ],
   "source": [
    "pandas.DataFrame(d,index=['d','b','a'], columns=['two','three'])"
   ]
  },
  {
   "cell_type": "code",
   "execution_count": 55,
   "metadata": {},
   "outputs": [
    {
     "data": {
      "text/html": [
       "<div>\n",
       "<style scoped>\n",
       "    .dataframe tbody tr th:only-of-type {\n",
       "        vertical-align: middle;\n",
       "    }\n",
       "\n",
       "    .dataframe tbody tr th {\n",
       "        vertical-align: top;\n",
       "    }\n",
       "\n",
       "    .dataframe thead th {\n",
       "        text-align: right;\n",
       "    }\n",
       "</style>\n",
       "<table border=\"1\" class=\"dataframe\">\n",
       "  <thead>\n",
       "    <tr style=\"text-align: right;\">\n",
       "      <th></th>\n",
       "      <th>one</th>\n",
       "      <th>two</th>\n",
       "    </tr>\n",
       "  </thead>\n",
       "  <tbody>\n",
       "    <tr>\n",
       "      <th>0</th>\n",
       "      <td>1.0</td>\n",
       "      <td>4.0</td>\n",
       "    </tr>\n",
       "    <tr>\n",
       "      <th>1</th>\n",
       "      <td>2.0</td>\n",
       "      <td>3.0</td>\n",
       "    </tr>\n",
       "    <tr>\n",
       "      <th>2</th>\n",
       "      <td>3.0</td>\n",
       "      <td>2.0</td>\n",
       "    </tr>\n",
       "    <tr>\n",
       "      <th>3</th>\n",
       "      <td>4.0</td>\n",
       "      <td>1.0</td>\n",
       "    </tr>\n",
       "  </tbody>\n",
       "</table>\n",
       "</div>"
      ],
      "text/plain": [
       "   one  two\n",
       "0  1.0  4.0\n",
       "1  2.0  3.0\n",
       "2  3.0  2.0\n",
       "3  4.0  1.0"
      ]
     },
     "execution_count": 55,
     "metadata": {},
     "output_type": "execute_result"
    }
   ],
   "source": [
    "d={'one':[1.,2.,3.,4.],'two':[4.,3.,2.,1.]}\n",
    "pandas.DataFrame(d)"
   ]
  },
  {
   "cell_type": "code",
   "execution_count": 60,
   "metadata": {},
   "outputs": [
    {
     "name": "stdout",
     "output_type": "stream",
     "text": [
      "   first  second\n",
      "a      1       5\n",
      "b      2       6\n",
      "c      3       7\n",
      "d      4       8\n"
     ]
    }
   ],
   "source": [
    "dict1={'a':1,'b':2,'c':3,'d':4}\n",
    "dict2={'a':5,'b':6,'c':7,'d':8}\n",
    "Data={'first':dict1,'second':dict2}\n",
    "df=pandas.DataFrame(Data)\n",
    "print(df)"
   ]
  },
  {
   "cell_type": "code",
   "execution_count": 61,
   "metadata": {},
   "outputs": [
    {
     "data": {
      "text/html": [
       "<div>\n",
       "<style scoped>\n",
       "    .dataframe tbody tr th:only-of-type {\n",
       "        vertical-align: middle;\n",
       "    }\n",
       "\n",
       "    .dataframe tbody tr th {\n",
       "        vertical-align: top;\n",
       "    }\n",
       "\n",
       "    .dataframe thead th {\n",
       "        text-align: right;\n",
       "    }\n",
       "</style>\n",
       "<table border=\"1\" class=\"dataframe\">\n",
       "  <thead>\n",
       "    <tr style=\"text-align: right;\">\n",
       "      <th></th>\n",
       "      <th>first</th>\n",
       "      <th>second</th>\n",
       "    </tr>\n",
       "  </thead>\n",
       "  <tbody>\n",
       "    <tr>\n",
       "      <th>first</th>\n",
       "      <td>NaN</td>\n",
       "      <td>NaN</td>\n",
       "    </tr>\n",
       "    <tr>\n",
       "      <th>second</th>\n",
       "      <td>NaN</td>\n",
       "      <td>NaN</td>\n",
       "    </tr>\n",
       "  </tbody>\n",
       "</table>\n",
       "</div>"
      ],
      "text/plain": [
       "        first  second\n",
       "first     NaN     NaN\n",
       "second    NaN     NaN"
      ]
     },
     "execution_count": 61,
     "metadata": {},
     "output_type": "execute_result"
    }
   ],
   "source": [
    "pandas.DataFrame(Data,index=['first','second'])"
   ]
  },
  {
   "cell_type": "code",
   "execution_count": 64,
   "metadata": {},
   "outputs": [
    {
     "name": "stdout",
     "output_type": "stream",
     "text": [
      "   first  second third\n",
      "0      1     1.1     a\n",
      "1      2     3.5     b\n",
      "2      3     4.7     c\n",
      "3      4     5.8     d\n",
      "4      5     2.9     e\n",
      "5      6     9.3   NaN\n",
      "6      2     NaN   NaN\n",
      "7      9     NaN   NaN\n"
     ]
    }
   ],
   "source": [
    "import pandas as pd\n",
    "s1=pd.Series([1,2,3,4,5,6,2,9])\n",
    "s2=pd.Series([1.1,3.5,4.7,5.8,2.9,9.3])\n",
    "s3=pd.Series(['a','b','c','d','e'])\n",
    "Data={'first':s1,'second':s2,'third':s3}\n",
    "dfseries=pd.DataFrame(Data)\n",
    "print(dfseries)"
   ]
  },
  {
   "cell_type": "code",
   "execution_count": 65,
   "metadata": {},
   "outputs": [
    {
     "name": "stdout",
     "output_type": "stream",
     "text": [
      "       first     second\n",
      "0  [2, 3, 4]  [2, 4, 8]\n",
      "1  [5, 6, 7]  [1, 4, 9]\n"
     ]
    }
   ],
   "source": [
    "d1=[[2,3,4],[5,6,7]]\n",
    "d2=[[2,4,8],[1,4,9]]\n",
    "Data={'first':d1,'second':d2}\n",
    "df2d=pandas.DataFrame(Data)\n",
    "print(df2d)"
   ]
  },
  {
   "cell_type": "code",
   "execution_count": null,
   "metadata": {},
   "outputs": [],
   "source": []
  }
 ],
 "metadata": {
  "kernelspec": {
   "display_name": "Python 3",
   "language": "python",
   "name": "python3"
  },
  "language_info": {
   "codemirror_mode": {
    "name": "ipython",
    "version": 3
   },
   "file_extension": ".py",
   "mimetype": "text/x-python",
   "name": "python",
   "nbconvert_exporter": "python",
   "pygments_lexer": "ipython3",
   "version": "3.7.3"
  }
 },
 "nbformat": 4,
 "nbformat_minor": 2
}
