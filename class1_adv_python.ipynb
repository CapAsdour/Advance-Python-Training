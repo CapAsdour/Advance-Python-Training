{
 "cells": [
  {
   "cell_type": "code",
   "execution_count": 1,
   "metadata": {},
   "outputs": [
    {
     "name": "stdout",
     "output_type": "stream",
     "text": [
      "hello, IT!\n"
     ]
    }
   ],
   "source": [
    "name=\"IT\"\n",
    "print(\"hello, %s!\"%name)"
   ]
  },
  {
   "cell_type": "code",
   "execution_count": 3,
   "metadata": {},
   "outputs": [
    {
     "name": "stdout",
     "output_type": "stream",
     "text": [
      "John is 23 years old.\n"
     ]
    }
   ],
   "source": [
    "name=\"John\"\n",
    "age=23\n",
    "print(\"%s is %d years old.\"%(name,age))"
   ]
  },
  {
   "cell_type": "code",
   "execution_count": 4,
   "metadata": {},
   "outputs": [
    {
     "name": "stdout",
     "output_type": "stream",
     "text": [
      "A list : 1\n"
     ]
    }
   ],
   "source": [
    "my_list=[1,2,3]\n",
    "print(\"A list : %s\"% my_list[0])"
   ]
  },
  {
   "cell_type": "code",
   "execution_count": 6,
   "metadata": {},
   "outputs": [
    {
     "name": "stdout",
     "output_type": "stream",
     "text": [
      "A list : 1 2\n"
     ]
    }
   ],
   "source": [
    "my_list=[1,2,3]\n",
    "print(\"A list : %s %s\"% (my_list[0],my_list[1]))"
   ]
  },
  {
   "cell_type": "raw",
   "metadata": {},
   "source": []
  },
  {
   "cell_type": "code",
   "execution_count": 8,
   "metadata": {},
   "outputs": [
    {
     "name": "stdout",
     "output_type": "stream",
     "text": [
      "13\n",
      "5\n",
      "3\n",
      "llo \n",
      "lo\n",
      "!dlroW olleH \n",
      " HELLO WORLD!\n",
      " hello world!\n",
      "True\n",
      "False\n"
     ]
    }
   ],
   "source": [
    "astring =\" Hello World!\"\n",
    "astring2 =' Hello World!'\n",
    "print(len(astring))\n",
    "print(astring.index(\"o\"))\n",
    "print(astring.count(\"l\"))\n",
    "print(astring[3:7])\n",
    "print(astring[3:7:2])\n",
    "print(astring[::-1])\n",
    "print(astring.upper())\n",
    "print(astring.lower())\n",
    "print(astring.startswith(\" \"))\n",
    "print(astring.endswith(\"asdfasdfasdf\"))"
   ]
  },
  {
   "cell_type": "code",
   "execution_count": 9,
   "metadata": {},
   "outputs": [
    {
     "name": "stdout",
     "output_type": "stream",
     "text": [
      "['', 'Hello', 'World!']\n"
     ]
    }
   ],
   "source": [
    "#astring =\"Hello World!\"\n",
    "afewwords=astring.split(\" \")\n",
    "print(afewwords)"
   ]
  },
  {
   "cell_type": "code",
   "execution_count": 10,
   "metadata": {},
   "outputs": [
    {
     "name": "stdout",
     "output_type": "stream",
     "text": [
      "True\n",
      "True\n",
      "False\n"
     ]
    }
   ],
   "source": [
    "x=[1,2,3]\n",
    "y=[1,2,3]\n",
    "print(x==y)\n",
    "print(x is x)\n",
    "print(x is y)"
   ]
  },
  {
   "cell_type": "code",
   "execution_count": 11,
   "metadata": {},
   "outputs": [
    {
     "name": "stdout",
     "output_type": "stream",
     "text": [
      "True\n",
      "True\n",
      "False\n"
     ]
    }
   ],
   "source": [
    "print(not False)\n",
    "print((not False)==(True))\n",
    "print((not False)==(False))"
   ]
  },
  {
   "cell_type": "code",
   "execution_count": 15,
   "metadata": {},
   "outputs": [
    {
     "name": "stdout",
     "output_type": "stream",
     "text": [
      "1\n",
      "2\n",
      "3\n",
      "4\n",
      "5\n",
      "6\n"
     ]
    }
   ],
   "source": [
    "number=16\n",
    "second_number=0\n",
    "first_array=[1,2,3]\n",
    "second_array=[1,2]\n",
    "if number>15:\n",
    "    print(\"1\")\n",
    "if first_array:\n",
    "    print(\"2\")\n",
    "if len(second_array)==2:\n",
    "    print(\"3\")\n",
    "if len(first_array)+len(second_array)==5:\n",
    "    print(\"4\")\n",
    "if first_array and first_array[0] ==1:\n",
    "    print(\"5\")\n",
    "if not second_number:\n",
    "    print(\"6\")"
   ]
  },
  {
   "cell_type": "code",
   "execution_count": 16,
   "metadata": {},
   "outputs": [
    {
     "name": "stdout",
     "output_type": "stream",
     "text": [
      "0\n",
      "1\n",
      "2\n",
      "3\n",
      "4\n",
      "count value reached 5\n"
     ]
    }
   ],
   "source": [
    "count=0\n",
    "while(count<5):\n",
    "    print(count)\n",
    "    count+=1\n",
    "else:\n",
    "    print(\"count value reached %d\"%(count))\n"
   ]
  },
  {
   "cell_type": "code",
   "execution_count": 17,
   "metadata": {},
   "outputs": [
    {
     "name": "stdout",
     "output_type": "stream",
     "text": [
      "1\n",
      "2\n",
      "3\n",
      "4\n"
     ]
    }
   ],
   "source": [
    "for i in range(1,10):\n",
    "    if(i%5==0):\n",
    "        break\n",
    "    print(i)\n",
    "else:\n",
    "    print(\"this is not printed because loop terminate \")"
   ]
  },
  {
   "cell_type": "code",
   "execution_count": 18,
   "metadata": {},
   "outputs": [
    {
     "name": "stdout",
     "output_type": "stream",
     "text": [
      "welcome to my function!\n"
     ]
    }
   ],
   "source": [
    "def my_func():\n",
    "    print(\"welcome to my function!\")\n",
    "my_func()    "
   ]
  },
  {
   "cell_type": "code",
   "execution_count": 20,
   "metadata": {},
   "outputs": [
    {
     "name": "stdout",
     "output_type": "stream",
     "text": [
      "x= 3 , y= 4\n",
      "arbitrary: ()\n",
      "x= 3 , y= 4\n",
      "arbitrary: ('Hello World',)\n",
      "x= 3 , y= 4\n",
      "arbitrary: ('Hello World', 4)\n",
      "x= 3 , y= 4\n",
      "arbitrary: ('Hello World', 4, 8, 9)\n"
     ]
    }
   ],
   "source": [
    "def arbitrary(x,y,*more):\n",
    "    print(\"x=\",x,\", y=\",y)\n",
    "    print(\"arbitrary:\",more)\n",
    "arbitrary(3,4)\n",
    "arbitrary(3,4,\"Hello World\")\n",
    "arbitrary(3,4,\"Hello World\",4)\n",
    "arbitrary(3,4,\"Hello World\",4,8,9)"
   ]
  },
  {
   "cell_type": "code",
   "execution_count": 21,
   "metadata": {},
   "outputs": [
    {
     "name": "stdout",
     "output_type": "stream",
     "text": [
      "values inside the function: [10, 20, 30, [1, 2, 3, 4]]\n",
      "values outside the function: [10, 20, 30, [1, 2, 3, 4]]\n"
     ]
    }
   ],
   "source": [
    "#function defination is here\n",
    "def changeme(mylist):\n",
    "    mylist.append([1,2,3,4])\n",
    "    print(\"values inside the function:\",mylist)\n",
    "    return\n",
    "#now you call changeme function\n",
    "mylist=[10,20,30]\n",
    "changeme(mylist)\n",
    "print(\"values outside the function:\",mylist)"
   ]
  },
  {
   "cell_type": "code",
   "execution_count": 22,
   "metadata": {},
   "outputs": [
    {
     "name": "stdout",
     "output_type": "stream",
     "text": [
      "values inside the function: [1, 2, 3, 4]\n",
      "values outside the function: [10, 20, 30]\n"
     ]
    }
   ],
   "source": [
    "def changeme(mylist):\n",
    "    mylist=[1,2,3,4]\n",
    "    print(\"values inside the function:\",mylist)\n",
    "    return\n",
    "#now you call changeme function\n",
    "mylist=[10,20,30]\n",
    "changeme(mylist)\n",
    "print(\"values outside the function:\",mylist)"
   ]
  },
  {
   "cell_type": "code",
   "execution_count": 31,
   "metadata": {},
   "outputs": [
    {
     "name": "stdout",
     "output_type": "stream",
     "text": [
      "[80, 160, 120, 100, 200, 150, 120, 240, 180]\n"
     ]
    }
   ],
   "source": [
    "l1=[40,50,60]\n",
    "l2=[2,4,3]\n",
    "l3=[]\n",
    "for i in l1:\n",
    "    for j in l2:\n",
    "        l3.append(j*i)\n",
    "print(l3)        "
   ]
  },
  {
   "cell_type": "code",
   "execution_count": 32,
   "metadata": {},
   "outputs": [
    {
     "name": "stdout",
     "output_type": "stream",
     "text": [
      "[80, 120, 160, 100, 150, 200, 120, 180, 240]\n"
     ]
    }
   ],
   "source": [
    "#list comprehension\n",
    "my_list=[]\n",
    "my_list=[x*y for x in [40,50,60] for y in [2,3,4]]\n",
    "print(my_list)"
   ]
  },
  {
   "cell_type": "code",
   "execution_count": 33,
   "metadata": {},
   "outputs": [
    {
     "name": "stdout",
     "output_type": "stream",
     "text": [
      "[0, 1, 4, 9, 16, 25, 36, 49, 64, 81]\n",
      "[0, 1, 4, 9, 16, 25, 36, 49, 64, 81]\n"
     ]
    }
   ],
   "source": [
    "# normal\n",
    "squares=[]\n",
    "for x in range(10):\n",
    "    squares.append(x**2)\n",
    "print(squares)\n",
    "# comprehended list\n",
    "squares=[]\n",
    "squares=[x**2 for x in range(10)]\n",
    "print(squares)"
   ]
  },
  {
   "cell_type": "code",
   "execution_count": 35,
   "metadata": {},
   "outputs": [
    {
     "name": "stdout",
     "output_type": "stream",
     "text": [
      "inside the function local total : 30\n",
      "outside the function global total : 0\n"
     ]
    }
   ],
   "source": [
    "total=0 #global variable\n",
    "def sum(arg1,arg2):\n",
    "    total=arg1+arg2\n",
    "    print(\"inside the function local total :\", total)\n",
    "    return total\n",
    "# now call function\n",
    "sum(10,20)\n",
    "print(\"outside the function global total :\",total )\n"
   ]
  },
  {
   "cell_type": "code",
   "execution_count": 36,
   "metadata": {},
   "outputs": [],
   "source": [
    "# creating an excel file using python\n",
    "import xlwt\n",
    "from xlwt import Workbook\n",
    "# workbook created\n",
    "wb=Workbook()\n",
    "# add_sheet is used to create sheet\n",
    "sheet1= wb.add_sheet('Sheet 1')\n",
    "sheet1.write(1,0,'isbt dehradun')\n",
    "sheet1.write(2,0,'shastradhara')\n",
    "sheet1.write(3,0,'clemen town')\n",
    "sheet1.write(4,0,'rajput road')\n",
    "sheet1.write(5,0,'clock tower')\n",
    "sheet1.write(0,1,'isbt dehradun')\n",
    "sheet1.write(0,2,'shastradhara')\n",
    "sheet1.write(0,3,'clemen town')\n",
    "sheet1.write(0,4,'rajput road')\n",
    "sheet1.write(0,5,'clock tower')\n",
    "wb.save('xlwt example.xls')"
   ]
  },
  {
   "cell_type": "code",
   "execution_count": 39,
   "metadata": {},
   "outputs": [
    {
     "ename": "AssertionError",
     "evalue": "",
     "output_type": "error",
     "traceback": [
      "\u001b[1;31m---------------------------------------------------------------------------\u001b[0m",
      "\u001b[1;31mAssertionError\u001b[0m                            Traceback (most recent call last)",
      "\u001b[1;32m<ipython-input-39-c2a3ead295a8>\u001b[0m in \u001b[0;36m<module>\u001b[1;34m\u001b[0m\n\u001b[0;32m      7\u001b[0m     \u001b[0mprint\u001b[0m\u001b[1;33m(\u001b[0m\u001b[1;34m\"not_cool\"\u001b[0m\u001b[1;33m)\u001b[0m\u001b[1;33m\u001b[0m\u001b[1;33m\u001b[0m\u001b[0m\n\u001b[0;32m      8\u001b[0m \u001b[0mf1\u001b[0m\u001b[1;33m(\u001b[0m\u001b[1;36m1\u001b[0m\u001b[1;33m)\u001b[0m\u001b[1;33m\u001b[0m\u001b[1;33m\u001b[0m\u001b[0m\n\u001b[1;32m----> 9\u001b[1;33m \u001b[0mf1\u001b[0m\u001b[1;33m(\u001b[0m\u001b[1;36m2\u001b[0m\u001b[1;33m)\u001b[0m\u001b[1;33m\u001b[0m\u001b[1;33m\u001b[0m\u001b[0m\n\u001b[0m\u001b[0;32m     10\u001b[0m \u001b[0mf2\u001b[0m\u001b[1;33m(\u001b[0m\u001b[1;36m1\u001b[0m\u001b[1;33m)\u001b[0m\u001b[1;33m\u001b[0m\u001b[1;33m\u001b[0m\u001b[0m\n\u001b[0;32m     11\u001b[0m \u001b[0mf3\u001b[0m\u001b[1;33m(\u001b[0m\u001b[1;36m2\u001b[0m\u001b[1;33m)\u001b[0m\u001b[1;33m\u001b[0m\u001b[1;33m\u001b[0m\u001b[0m\n",
      "\u001b[1;32m<ipython-input-39-c2a3ead295a8>\u001b[0m in \u001b[0;36mf1\u001b[1;34m(x)\u001b[0m\n\u001b[0;32m      1\u001b[0m \u001b[1;32mdef\u001b[0m \u001b[0mf1\u001b[0m\u001b[1;33m(\u001b[0m\u001b[0mx\u001b[0m\u001b[1;33m)\u001b[0m\u001b[1;33m:\u001b[0m\u001b[1;33m\u001b[0m\u001b[1;33m\u001b[0m\u001b[0m\n\u001b[1;32m----> 2\u001b[1;33m     \u001b[1;32massert\u001b[0m \u001b[0mx\u001b[0m \u001b[1;33m==\u001b[0m\u001b[1;36m1\u001b[0m\u001b[1;33m\u001b[0m\u001b[1;33m\u001b[0m\u001b[0m\n\u001b[0m\u001b[0;32m      3\u001b[0m \u001b[1;32mdef\u001b[0m \u001b[0mf2\u001b[0m\u001b[1;33m(\u001b[0m\u001b[0mx\u001b[0m\u001b[1;33m)\u001b[0m\u001b[1;33m:\u001b[0m\u001b[1;33m\u001b[0m\u001b[1;33m\u001b[0m\u001b[0m\n\u001b[0;32m      4\u001b[0m     \u001b[0mf1\u001b[0m\u001b[1;33m(\u001b[0m\u001b[0mx\u001b[0m\u001b[1;33m)\u001b[0m\u001b[1;33m\u001b[0m\u001b[1;33m\u001b[0m\u001b[0m\n\u001b[0;32m      5\u001b[0m \u001b[1;32mdef\u001b[0m \u001b[0mf3\u001b[0m\u001b[1;33m(\u001b[0m\u001b[0mx\u001b[0m\u001b[1;33m)\u001b[0m\u001b[1;33m:\u001b[0m\u001b[1;33m\u001b[0m\u001b[1;33m\u001b[0m\u001b[0m\n",
      "\u001b[1;31mAssertionError\u001b[0m: "
     ]
    }
   ],
   "source": [
    "def f1(x):\n",
    "    assert x ==1\n",
    "def f2(x):\n",
    "    f1(x)\n",
    "def f3(x):\n",
    "    f2(x)\n",
    "    print(\"not_cool\")\n",
    "f1(1)\n",
    "f1(2)\n",
    "f2(1)\n",
    "f3(2)"
   ]
  },
  {
   "cell_type": "code",
   "execution_count": 40,
   "metadata": {},
   "outputs": [
    {
     "name": "stdout",
     "output_type": "stream",
     "text": [
      "enter a positive integer : -10\n",
      "that is not a positive number!\n"
     ]
    }
   ],
   "source": [
    "try:\n",
    "    a=int(input(\"enter a positive integer : \"))\n",
    "    if a<=0:\n",
    "        raise ValueError(\"that is not a positive number!\")\n",
    "except ValueError as ve:\n",
    "    print(ve)"
   ]
  },
  {
   "cell_type": "code",
   "execution_count": null,
   "metadata": {},
   "outputs": [],
   "source": []
  }
 ],
 "metadata": {
  "kernelspec": {
   "display_name": "Python 3",
   "language": "python",
   "name": "python3"
  },
  "language_info": {
   "codemirror_mode": {
    "name": "ipython",
    "version": 3
   },
   "file_extension": ".py",
   "mimetype": "text/x-python",
   "name": "python",
   "nbconvert_exporter": "python",
   "pygments_lexer": "ipython3",
   "version": "3.7.3"
  }
 },
 "nbformat": 4,
 "nbformat_minor": 2
}
